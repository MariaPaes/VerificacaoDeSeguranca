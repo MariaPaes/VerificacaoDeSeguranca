{
 "cells": [
  {
   "cell_type": "code",
   "execution_count": null,
   "metadata": {},
   "outputs": [],
   "source": [
    "print(\"Enviamos um email para você. Verifique sua caixa de entrada para realizar a verificação de seus dados.\\n\")\n",
    "print(\"-------------- EMAIL --------------\")\n",
    "print(\"A senha é !@#123 e o código de verificação é 9898.\")\n",
    "print(\"-----------------------------------\\n\")\n",
    "\n",
    "tentativasEsgotadas = 3\n",
    "senhaDefault = \"!@#123\"\n",
    "codigoAleatorio = 9898\n",
    "\n",
    "for cont in range(tentativasEsgotadas):\n",
    "    senha = input(\"Digite sua senha, conforme enviado por email: \")\n",
    "    codigo = int(input(\"Digite seu código de verificação, conforme enviado por email: \"))\n",
    "\n",
    "    if (senha == senhaDefault) and (codigo == codigoAleatorio):\n",
    "        print(\"\\nParabéns, seus dados foram verificados!\")\n",
    "        break\n",
    "    elif (cont == tentativasEsgotadas - 1):\n",
    "       print(\"\\nSua conta foi bloqueada.\")\n",
    "    else:\n",
    "      print(\"\\nNa\", cont+1, \"ª tentativa você, falhou. Lembre-se de que em \", tentativasEsgotadas, \" erros, sua conta será bloqueada.\\n\")\n",
    "\n"
   ]
  }
 ],
 "metadata": {
  "language_info": {
   "name": "python"
  }
 },
 "nbformat": 4,
 "nbformat_minor": 2
}
